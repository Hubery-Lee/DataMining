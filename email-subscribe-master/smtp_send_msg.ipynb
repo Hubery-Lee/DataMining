{
 "cells": [
  {
   "cell_type": "markdown",
   "metadata": {},
   "source": [
    "# 测试利用smtp发送邮件"
   ]
  },
  {
   "cell_type": "code",
   "execution_count": 8,
   "metadata": {},
   "outputs": [],
   "source": [
    "import os\n",
    "import smtplib\n",
    "\n",
    "EMAIL_ADDRESSS =  \"hrbeulh@126.com\"\n",
    "EMAIL_PASSWORD = \"lihui123\"   #邮箱smtp授权码\n",
    "\n",
    "with smtplib.SMTP('smtp.126.com',25) as smtp:\n",
    "    \n",
    "    smtp.login(EMAIL_ADDRESSS,EMAIL_PASSWORD)\n",
    "    \n",
    "    subject = 'grab dinner this weekend?'\n",
    "    body = 'how about dinner at 7pm this saturday?'\n",
    "    \n",
    "    msg = f'Subject:{subject}\\n\\n{body}'\n",
    "    \n",
    "    smtp.sendmail(EMAIL_ADDRESSS,'hrbeulh@126.com',msg)"
   ]
  },
  {
   "cell_type": "markdown",
   "metadata": {},
   "source": [
    "# email.message使用"
   ]
  },
  {
   "cell_type": "code",
   "execution_count": 11,
   "metadata": {},
   "outputs": [],
   "source": [
    "import os\n",
    "import smtplib\n",
    "from email.message import EmailMessage\n",
    "\n",
    "EMAIL_ADDRESSS =  \"hrbeulh@126.com\"\n",
    "EMAIL_PASSWORD = \"lihui123\"   #邮箱smtp授权码\n",
    "\n",
    "msg = EmailMessage()\n",
    "msg['Subject'] = 'grab dinner this weekend?'\n",
    "msg['From'] = EMAIL_ADDRESSS\n",
    "msg['To'] = 'hrbeulh@126.com'\n",
    "msg.set_content('how about dinner at 7pm this saturday?')\n",
    "\n",
    "\n",
    "with smtplib.SMTP('smtp.126.com',25) as smtp:\n",
    "    \n",
    "    smtp.login(EMAIL_ADDRESSS,EMAIL_PASSWORD)    \n",
    "    smtp.send_message(msg)"
   ]
  },
  {
   "cell_type": "markdown",
   "metadata": {},
   "source": [
    "## 发送给多个用户"
   ]
  },
  {
   "cell_type": "code",
   "execution_count": null,
   "metadata": {},
   "outputs": [],
   "source": [
    "import os\n",
    "import smtplib\n",
    "from email.message import EmailMessage\n",
    "\n",
    "EMAIL_ADDRESSS =  \"hrbeulh@126.com\"\n",
    "EMAIL_PASSWORD = \"lihui123\"   #邮箱smtp授权码\n",
    "\n",
    "multi_recipients = ['Fxxx@gmail.com','Mxxx@gmail.com']\n",
    "\n",
    "msg = EmailMessage()\n",
    "msg['Subject'] = 'grab dinner this weekend?'\n",
    "msg['From'] = EMAIL_ADDRESSS\n",
    "msg['To'] = ','.join(multi_recipients)\n",
    "msg.set_content('how about dinner at 7pm this saturday?')\n",
    "\n",
    "\n",
    "with smtplib.SMTP('smtp.126.com',25) as smtp:\n",
    "    \n",
    "    smtp.login(EMAIL_ADDRESSS,EMAIL_PASSWORD)    \n",
    "    smtp.send_message(msg)"
   ]
  },
  {
   "cell_type": "markdown",
   "metadata": {},
   "source": [
    "# Add image attachment"
   ]
  },
  {
   "cell_type": "code",
   "execution_count": 30,
   "metadata": {},
   "outputs": [
    {
     "name": "stdout",
     "output_type": "stream",
     "text": [
      "C:\\Users\\lee\\Desktop\\email-subscribe-master\n",
      "png\n"
     ]
    }
   ],
   "source": [
    "import os\n",
    "import smtplib\n",
    "import imghdr\n",
    "from email.message import EmailMessage\n",
    "\n",
    "EMAIL_ADDRESSS =  \"hrbeulh@126.com\"\n",
    "EMAIL_PASSWORD = \"lihui123\"   #邮箱smtp授权码\n",
    "\n",
    "msg = EmailMessage()\n",
    "msg['Subject'] = 'Check out Bronx as puppy!'\n",
    "msg['From'] = EMAIL_ADDRESSS\n",
    "msg['To'] = 'hrbeulh@126.com'\n",
    "msg.set_content('Image attched ...')\n",
    "\n",
    "with open('P1.png','rb') as f:\n",
    "    file_data = f.read()\n",
    "    #file_path = os.getcwd()\n",
    "    #print(file_path)\n",
    "    file_type = imghdr.what(f.name)\n",
    "    #print(file_type)\n",
    "    #file_name =f.name\n",
    "\n",
    "msg.add_attachment(file_data, maintype='image',subtype=imghdr.what(f.name, file_data))\n",
    "#msg.add_attachment(file_data, maintype='image',subtype= filetype, filename = file_name))\n",
    "\n",
    "with smtplib.SMTP('smtp.126.com',25) as smtp:\n",
    "    \n",
    "    smtp.login(EMAIL_ADDRESSS,EMAIL_PASSWORD)    \n",
    "    smtp.send_message(msg)\n",
    "\n"
   ]
  },
  {
   "cell_type": "markdown",
   "metadata": {},
   "source": [
    "## Add images attachments"
   ]
  },
  {
   "cell_type": "code",
   "execution_count": 55,
   "metadata": {},
   "outputs": [],
   "source": [
    "import os\n",
    "import smtplib\n",
    "import imghdr\n",
    "from email.message import EmailMessage\n",
    "\n",
    "EMAIL_ADDRESSS =  \"hrbeulh@126.com\"\n",
    "EMAIL_PASSWORD = \"lihui123\"   #邮箱smtp授权码\n",
    "\n",
    "msg = EmailMessage()\n",
    "msg['Subject'] = 'Check out Bronx as puppy!'\n",
    "msg['From'] = EMAIL_ADDRESSS\n",
    "msg['To'] = 'hrbeulh@126.com'\n",
    "msg.set_content('Image attched ...')\n",
    "\n",
    "files =['P1.png','P2.png','girl.jpeg']\n",
    "\n",
    "for file in files:\n",
    "    with open(file,'rb') as f:\n",
    "        file_data = f.read()\n",
    "#         file_path = os.getcwd()\n",
    "#         print(file_path)\n",
    "#         file_type = imghdr.what(f.name)\n",
    "#         print(file_type)\n",
    "\n",
    "    msg.add_attachment(file_data, maintype='image',subtype=imghdr.what(f.name, file_data))\n",
    "#     msg.add_attachment(file_data, maintype='image',subtype=imghdr.what(None, file_data))\n",
    "\n",
    "with smtplib.SMTP('smtp.126.com',25) as smtp:\n",
    "    \n",
    "    smtp.login(EMAIL_ADDRESSS,EMAIL_PASSWORD)    \n",
    "    smtp.send_message(msg)\n"
   ]
  },
  {
   "cell_type": "markdown",
   "metadata": {},
   "source": [
    "## Add pdf attachment "
   ]
  },
  {
   "cell_type": "code",
   "execution_count": 56,
   "metadata": {},
   "outputs": [],
   "source": [
    "import os\n",
    "import smtplib\n",
    "import imghdr\n",
    "from email.message import EmailMessage\n",
    "\n",
    "EMAIL_ADDRESSS =  \"hrbeulh@126.com\"\n",
    "EMAIL_PASSWORD = \"lihui123\"   #邮箱smtp授权码\n",
    "\n",
    "msg = EmailMessage()\n",
    "msg['Subject'] = 'Check out Bronx as puppy!'\n",
    "msg['From'] = EMAIL_ADDRESSS\n",
    "msg['To'] = 'hrbeulh@126.com'\n",
    "msg.set_content('Image attched ...')\n",
    "\n",
    "files =['EEE.pdf']\n",
    "\n",
    "for file in files:\n",
    "    with open(file,'rb') as f:\n",
    "        file_data = f.read()\n",
    "#         file_path = os.getcwd()\n",
    "#         print(file_path)\n",
    "#         file_type = imghdr.what(f.name)\n",
    "#         print(file_type)\n",
    "\n",
    "    msg.add_attachment(file_data, maintype='application',subtype='octet-stream',filename = f.name)\n",
    "#     msg.add_attachment(file_data, maintype='image',subtype=imghdr.what(None, file_data))\n",
    "\n",
    "with smtplib.SMTP('smtp.126.com',25) as smtp:\n",
    "    \n",
    "    smtp.login(EMAIL_ADDRESSS,EMAIL_PASSWORD)    \n",
    "    smtp.send_message(msg)"
   ]
  },
  {
   "cell_type": "markdown",
   "metadata": {},
   "source": [
    "## Using plain text to send html  email"
   ]
  },
  {
   "cell_type": "code",
   "execution_count": 57,
   "metadata": {},
   "outputs": [],
   "source": [
    "import os\n",
    "import smtplib\n",
    "import imghdr\n",
    "from email.message import EmailMessage\n",
    "\n",
    "\n",
    "HTML = \"\"\"\n",
    "<html lang=\"en\">\n",
    "<head>\n",
    "    <meta charset=\"UTF-8\">\n",
    "    <meta name=\"viewport\" content=\"width=device-width, initial-scale=1.0\">\n",
    "    <meta http-equiv=\"X-UA-Compatible\" content=\"ie=edge\">\n",
    "</head>\n",
    "<body>\n",
    "    <div align=\"center\">\n",
    "        <h2>😘 Daily</h2>\n",
    "        <p>傻宝宝，今天已经是我们相恋的第 {loving_days} 天了喔 💓。</p>\n",
    "        <br/>\n",
    "        <img style=\"padding: 0.60em; background: white; box-shadow: 1px 1px 10px #999;\" src=\"cid:one\" />\n",
    "    </div>\n",
    "</body>\n",
    "</html>\n",
    "\"\"\"\n",
    "\n",
    "EMAIL_ADDRESSS =  \"hrbeulh@126.com\"\n",
    "EMAIL_PASSWORD = \"lihui123\"   #邮箱smtp授权码\n",
    "\n",
    "msg = EmailMessage()\n",
    "msg['Subject'] = 'This is a html email using plain '\n",
    "msg['From'] = EMAIL_ADDRESSS\n",
    "msg['To'] = 'hrbeulh@126.com'\n",
    "msg.set_content('This is a plain test email')\n",
    "\n",
    "msg.add_alternative(HTML,subtype='html')\n",
    "\n",
    "with smtplib.SMTP('smtp.126.com',25) as smtp:\n",
    "    \n",
    "    smtp.login(EMAIL_ADDRESSS,EMAIL_PASSWORD)    \n",
    "    smtp.send_message(msg)"
   ]
  },
  {
   "cell_type": "markdown",
   "metadata": {},
   "source": [
    "## 参考资料\n",
    "- python3.7 [doc/library/email.examples](https://docs.python.org/3/library/email.examples.html)\n",
    "- [Corey Schafer youtube视频](https://www.youtube.com/watch?v=JRCJ6RtE3xU)"
   ]
  },
  {
   "cell_type": "code",
   "execution_count": null,
   "metadata": {},
   "outputs": [],
   "source": []
  }
 ],
 "metadata": {
  "kernelspec": {
   "display_name": "Python 3",
   "language": "python",
   "name": "python3"
  },
  "language_info": {
   "codemirror_mode": {
    "name": "ipython",
    "version": 3
   },
   "file_extension": ".py",
   "mimetype": "text/x-python",
   "name": "python",
   "nbconvert_exporter": "python",
   "pygments_lexer": "ipython3",
   "version": "3.7.3"
  }
 },
 "nbformat": 4,
 "nbformat_minor": 2
}
