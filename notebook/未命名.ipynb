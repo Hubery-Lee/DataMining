{
 "cells": [
  {
   "cell_type": "code",
   "execution_count": 1,
   "metadata": {},
   "outputs": [],
   "source": [
    "import os\n",
    "import datetime\n",
    "\n",
    "FALL_IN_LOVE = (2015, 7, 2)\n",
    "\n",
    "FALL_IN_LOVE = (2019, 8, 20)\n",
    "MAIL_HOST = \"smtp.126.com\"\n",
    "MAIL_USER = \"hrbeulh@126.com\"\n",
    "MAIL_PASS = \"lihui123\"\n",
    "MAIL_SENDER = \"hrbeulh@126.com\"\n",
    "MAIL_RECEIVER = \"913304155@qq.com\"\n",
    "#MAIL_RECEIVER = \"hrbeulh@126.com\"\n",
    "\n",
    "MAIL_ENCODING = \"utf8\"\n",
    "\n",
    "\n",
    "def get_loving_days():\n",
    "    \"\"\"\n",
    "    获取恋爱天数\n",
    "    \"\"\"\n",
    "    today = datetime.datetime.today()\n",
    "    anniversary = datetime.datetime(*FALL_IN_LOVE)\n",
    "    return (today - anniversary).days"
   ]
  },
  {
   "cell_type": "code",
   "execution_count": 2,
   "metadata": {},
   "outputs": [],
   "source": [
    "import smtplib\n",
    "import time\n",
    "from email.header import Header\n",
    "from email.mime.text import MIMEText\n",
    "\n",
    "import requests\n",
    "from tenacity import retry, stop_after_attempt, wait_random"
   ]
  },
  {
   "cell_type": "code",
   "execution_count": 5,
   "metadata": {},
   "outputs": [
    {
     "name": "stdout",
     "output_type": "stream",
     "text": [
      "(554, b'DT:SPM 126 smtp8,NORpCgA3jio0W2Jd5+OnKg--.5603S2 1566726964,please see http://mail.163.com/help/help_spam_16.htm?ip=218.26.55.85&hostid=smtp8&time=1566726964')\n"
     ]
    }
   ],
   "source": [
    "def send_email():\n",
    "    \"\"\"\n",
    "    发送邮件\n",
    "    \"\"\"\n",
    "    #content = get_weather_info() or ANGRY_MSG\n",
    "    content = \"This is the content\"\n",
    "    message = MIMEText(content, 'plain', MAIL_ENCODING)\n",
    "    message[\"From\"] = Header(\"暖宝宝\", MAIL_ENCODING)\n",
    "    message[\"To\"] = Header(\"A handsome soul\")\n",
    "    message[\"Subject\"] = Header(\"😘 男朋友的日常问候\", MAIL_ENCODING)\n",
    "    try:\n",
    "        smtp_obj = smtplib.SMTP_SSL(MAIL_HOST)\n",
    "        smtp_obj.login(MAIL_USER, MAIL_PASS)\n",
    "        smtp_obj.sendmail(MAIL_SENDER, [MAIL_RECEIVER], message.as_string())\n",
    "        smtp_obj.quit()\n",
    "    except Exception as e:\n",
    "        print(e)\n",
    "\n",
    "\n",
    "if __name__ == \"__main__\":\n",
    "    send_email()"
   ]
  },
  {
   "cell_type": "code",
   "execution_count": 6,
   "metadata": {},
   "outputs": [],
   "source": [
    "    #content = get_weather_info() or ANGRY_MSG\n",
    "    content = \"This is the content\"\n",
    "    message = MIMEText(content, 'plain', MAIL_ENCODING)\n",
    "    message[\"From\"] = Header(\"暖宝宝\", MAIL_ENCODING)\n",
    "    message[\"To\"] = Header(\"A handsome soul\")\n",
    "    message[\"Subject\"] = Header(\"😘 男朋友的日常问候\", MAIL_ENCODING)"
   ]
  },
  {
   "cell_type": "code",
   "execution_count": 7,
   "metadata": {},
   "outputs": [
    {
     "name": "stdout",
     "output_type": "stream",
     "text": [
      "(554, b'DT:SPM 126 smtp8,NORpCgCn_g6MW2JdrvenKg--.5860S2 1566727052,please see http://mail.163.com/help/help_spam_16.htm?ip=218.26.55.85&hostid=smtp8&time=1566727052')\n"
     ]
    }
   ],
   "source": [
    "    try:\n",
    "        smtp_obj = smtplib.SMTP_SSL(MAIL_HOST)\n",
    "        smtp_obj.login(MAIL_USER, MAIL_PASS)\n",
    "        smtp_obj.sendmail(MAIL_SENDER, [MAIL_RECEIVER], message.as_string())\n",
    "        smtp_obj.quit()\n",
    "    except Exception as e:\n",
    "        print(e)"
   ]
  },
  {
   "cell_type": "code",
   "execution_count": 8,
   "metadata": {},
   "outputs": [
    {
     "ename": "SMTPDataError",
     "evalue": "(554, b'DT:SPM 126 smtp8,NORpCgCXJQ6aW2JdN_qnKg--.5800S2 1566727066,please see http://mail.163.com/help/help_spam_16.htm?ip=218.26.55.85&hostid=smtp8&time=1566727066')",
     "output_type": "error",
     "traceback": [
      "\u001b[1;31m---------------------------------------------------------------------------\u001b[0m",
      "\u001b[1;31mSMTPDataError\u001b[0m                             Traceback (most recent call last)",
      "\u001b[1;32m<ipython-input-8-e66590fe1eb2>\u001b[0m in \u001b[0;36m<module>\u001b[1;34m\u001b[0m\n\u001b[0;32m      1\u001b[0m \u001b[0msmtp_obj\u001b[0m \u001b[1;33m=\u001b[0m \u001b[0msmtplib\u001b[0m\u001b[1;33m.\u001b[0m\u001b[0mSMTP_SSL\u001b[0m\u001b[1;33m(\u001b[0m\u001b[0mMAIL_HOST\u001b[0m\u001b[1;33m)\u001b[0m\u001b[1;33m\u001b[0m\u001b[1;33m\u001b[0m\u001b[0m\n\u001b[0;32m      2\u001b[0m \u001b[0msmtp_obj\u001b[0m\u001b[1;33m.\u001b[0m\u001b[0mlogin\u001b[0m\u001b[1;33m(\u001b[0m\u001b[0mMAIL_USER\u001b[0m\u001b[1;33m,\u001b[0m \u001b[0mMAIL_PASS\u001b[0m\u001b[1;33m)\u001b[0m\u001b[1;33m\u001b[0m\u001b[1;33m\u001b[0m\u001b[0m\n\u001b[1;32m----> 3\u001b[1;33m \u001b[0msmtp_obj\u001b[0m\u001b[1;33m.\u001b[0m\u001b[0msendmail\u001b[0m\u001b[1;33m(\u001b[0m\u001b[0mMAIL_SENDER\u001b[0m\u001b[1;33m,\u001b[0m \u001b[1;33m[\u001b[0m\u001b[0mMAIL_RECEIVER\u001b[0m\u001b[1;33m]\u001b[0m\u001b[1;33m,\u001b[0m \u001b[0mmessage\u001b[0m\u001b[1;33m.\u001b[0m\u001b[0mas_string\u001b[0m\u001b[1;33m(\u001b[0m\u001b[1;33m)\u001b[0m\u001b[1;33m)\u001b[0m\u001b[1;33m\u001b[0m\u001b[1;33m\u001b[0m\u001b[0m\n\u001b[0m",
      "\u001b[1;32mc:\\users\\lee\\appdata\\local\\programs\\python\\python37\\lib\\smtplib.py\u001b[0m in \u001b[0;36msendmail\u001b[1;34m(self, from_addr, to_addrs, msg, mail_options, rcpt_options)\u001b[0m\n\u001b[0;32m    886\u001b[0m             \u001b[1;32melse\u001b[0m\u001b[1;33m:\u001b[0m\u001b[1;33m\u001b[0m\u001b[1;33m\u001b[0m\u001b[0m\n\u001b[0;32m    887\u001b[0m                 \u001b[0mself\u001b[0m\u001b[1;33m.\u001b[0m\u001b[0m_rset\u001b[0m\u001b[1;33m(\u001b[0m\u001b[1;33m)\u001b[0m\u001b[1;33m\u001b[0m\u001b[1;33m\u001b[0m\u001b[0m\n\u001b[1;32m--> 888\u001b[1;33m             \u001b[1;32mraise\u001b[0m \u001b[0mSMTPDataError\u001b[0m\u001b[1;33m(\u001b[0m\u001b[0mcode\u001b[0m\u001b[1;33m,\u001b[0m \u001b[0mresp\u001b[0m\u001b[1;33m)\u001b[0m\u001b[1;33m\u001b[0m\u001b[1;33m\u001b[0m\u001b[0m\n\u001b[0m\u001b[0;32m    889\u001b[0m         \u001b[1;31m#if we got here then somebody got our mail\u001b[0m\u001b[1;33m\u001b[0m\u001b[1;33m\u001b[0m\u001b[1;33m\u001b[0m\u001b[0m\n\u001b[0;32m    890\u001b[0m         \u001b[1;32mreturn\u001b[0m \u001b[0msenderrs\u001b[0m\u001b[1;33m\u001b[0m\u001b[1;33m\u001b[0m\u001b[0m\n",
      "\u001b[1;31mSMTPDataError\u001b[0m: (554, b'DT:SPM 126 smtp8,NORpCgCXJQ6aW2JdN_qnKg--.5800S2 1566727066,please see http://mail.163.com/help/help_spam_16.htm?ip=218.26.55.85&hostid=smtp8&time=1566727066')"
     ]
    }
   ],
   "source": [
    "        smtp_obj = smtplib.SMTP_SSL(MAIL_HOST)\n",
    "        smtp_obj.login(MAIL_USER, MAIL_PASS)\n",
    "        smtp_obj.sendmail(MAIL_SENDER, [MAIL_RECEIVER], message.as_string())"
   ]
  },
  {
   "cell_type": "code",
   "execution_count": 9,
   "metadata": {},
   "outputs": [
    {
     "data": {
      "text/plain": [
       "(235, b'Authentication successful')"
      ]
     },
     "execution_count": 9,
     "metadata": {},
     "output_type": "execute_result"
    }
   ],
   "source": [
    "        smtp_obj = smtplib.SMTP_SSL(MAIL_HOST)\n",
    "        smtp_obj.login(MAIL_USER, MAIL_PASS)"
   ]
  },
  {
   "cell_type": "code",
   "execution_count": 11,
   "metadata": {},
   "outputs": [
    {
     "name": "stdout",
     "output_type": "stream",
     "text": [
      "(554, b'DT:SPM 126 smtp8,NORpCgAHsRytXGJd2F2oKg--.5896S2 1566727341,please see http://mail.163.com/help/help_spam_16.htm?ip=218.26.55.85&hostid=smtp8&time=1566727341')\n"
     ]
    }
   ],
   "source": [
    "def send_email():\n",
    "    \"\"\"\n",
    "    发送邮件\n",
    "    \"\"\"\n",
    "    #content = get_weather_info() or ANGRY_MSG\n",
    "    #Ct = \"This is the content\"\n",
    "    message = MIMEText('This is the content', 'plain', MAIL_ENCODING)\n",
    "    message[\"From\"] = Header(\"暖宝宝\", MAIL_ENCODING)\n",
    "    message[\"To\"] = Header(\"A handsome soul\")\n",
    "    message[\"Subject\"] = Header(\"😘 男朋友的日常问候\", MAIL_ENCODING)\n",
    "    try:\n",
    "        smtp_obj = smtplib.SMTP_SSL(MAIL_HOST)\n",
    "        smtp_obj.login(MAIL_USER, MAIL_PASS)\n",
    "        smtp_obj.sendmail(MAIL_SENDER, [MAIL_RECEIVER], message.as_string())\n",
    "        smtp_obj.quit()\n",
    "    except Exception as e:\n",
    "        print(e)\n",
    "\n",
    "\n",
    "if __name__ == \"__main__\":\n",
    "    send_email()"
   ]
  },
  {
   "cell_type": "code",
   "execution_count": 12,
   "metadata": {},
   "outputs": [
    {
     "name": "stdout",
     "output_type": "stream",
     "text": [
      "https://www.qichacha.com/search?key=河南正商河洛置业有限公司\n",
      "%E6%B2%B3%E5%8D%97%E6%AD%A3%E5%95%86%E6%B2%B3%E6%B4%9B%E7%BD%AE%E4%B8%9A%E6%9C%89%E9%99%90%E5%85%AC%E5%8F%B8\n"
     ]
    }
   ],
   "source": [
    "from urllib.parse import unquote,quote\n",
    " \n",
    "url1 = \"https://www.qichacha.com/search?key=河南正商河洛置业有限公司\"\n",
    "url2 = \"https://www.qichacha.com/search?key=%E6%B2%B3%E5%8D%97%E6%AD%A3%E5%95%86%E6%B2%B3%E6%B4%9B%E7%BD%AE%E4%B8%9A%E6%9C%89%E9%99%90%E5%85%AC%E5%8F%B8\"\n",
    "# 解码\n",
    "url = unquote(url2)\n",
    "print(url)\n",
    "#编码\n",
    "url = quote(\"河南正商河洛置业有限公司\")\n",
    "print(url)"
   ]
  },
  {
   "cell_type": "code",
   "execution_count": null,
   "metadata": {},
   "outputs": [],
   "source": []
  }
 ],
 "metadata": {
  "kernelspec": {
   "display_name": "Python 3",
   "language": "python",
   "name": "python3"
  },
  "language_info": {
   "codemirror_mode": {
    "name": "ipython",
    "version": 3
   },
   "file_extension": ".py",
   "mimetype": "text/x-python",
   "name": "python",
   "nbconvert_exporter": "python",
   "pygments_lexer": "ipython3",
   "version": "3.7.3"
  }
 },
 "nbformat": 4,
 "nbformat_minor": 2
}
